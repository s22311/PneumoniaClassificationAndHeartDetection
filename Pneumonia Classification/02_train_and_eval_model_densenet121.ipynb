{
 "cells": [
  {
   "cell_type": "code",
   "execution_count": null,
   "id": "29f1a9e9-b703-404d-8daa-dbd4386d34be",
   "metadata": {},
   "outputs": [],
   "source": [
    "from FileLoader import load_file\n",
    "import torch\n",
    "import torchvision\n",
    "from torchvision import transforms\n",
    "import torchmetrics\n",
    "import distutils.version\n",
    "import pytorch_lightning as pl\n",
    "from pytorch_lightning.callbacks import ModelCheckpoint\n",
    "from pytorch_lightning.loggers import TensorBoardLogger\n",
    "from tqdm.notebook import tqdm\n",
    "import numpy as np\n",
    "import matplotlib.pyplot as plt"
   ]
  },
  {
   "cell_type": "code",
   "execution_count": null,
   "id": "113e7ccd-6d6c-4f58-bd20-441dcedf22fe",
   "metadata": {},
   "outputs": [],
   "source": [
    "train_transforms = transforms.Compose([\n",
    "                                    transforms.ToTensor(),\n",
    "                                    transforms.Normalize([0.49044,], [0.24787,]),\n",
    "                                    transforms.RandomAffine(degrees=(-10, 10), translate=(0, 0.1), scale=(0.8, 1.2)),\n",
    "                                    transforms.RandomResizedCrop((224, 224), scale=(0.65, 1))\n",
    "\n",
    "])\n",
    "\n",
    "val_test_transforms = transforms.Compose([\n",
    "                                    transforms.ToTensor(),\n",
    "                                    transforms.Normalize([0.49044,], [0.24787,])\n",
    "])"
   ]
  },
  {
   "cell_type": "code",
   "execution_count": null,
   "id": "7ac93c19-72bc-468e-b514-4445786c54ad",
   "metadata": {},
   "outputs": [],
   "source": [
    "processed_path = \"./processed\" #Add path to the folder with processed images"
   ]
  },
  {
   "cell_type": "code",
   "execution_count": null,
   "id": "0bdf7304-3f36-42de-9dfd-93b1c1ea23a1",
   "metadata": {},
   "outputs": [],
   "source": [
    "train_dataset = torchvision.datasets.DatasetFolder(\n",
    "    f\"{processed_path}/train/\", loader=load_file, extensions=\"npy\", transform=train_transforms)\n",
    "\n",
    "val_dataset = torchvision.datasets.DatasetFolder(\n",
    "    f\"{processed_path}/val/\", loader=load_file, extensions=\"npy\", transform=val_test_transforms)\n",
    "\n",
    "test_dataset = torchvision.datasets.DatasetFolder(\n",
    "    f\"{processed_path}/test/\", loader=load_file, extensions=\"npy\", transform=val_test_transforms)\n",
    "\n",
    "print(f\"There are {len(train_dataset)} train images, {len(val_dataset)} val images and {len(test_dataset)} test images\")"
   ]
  },
  {
   "cell_type": "code",
   "execution_count": null,
   "id": "8f1c1a25-0be7-4712-b1fc-ce7e2471651f",
   "metadata": {},
   "outputs": [],
   "source": [
    "# Check dataset balances\n",
    "\n",
    "np.unique(train_dataset.targets, return_counts=True), np.unique(val_dataset.targets, return_counts=True), np.unique(test_dataset.targets, return_counts=True)"
   ]
  },
  {
   "cell_type": "code",
   "execution_count": null,
   "id": "f0b29ea4-5d43-489f-b521-f0bbb6a9c5b0",
   "metadata": {},
   "outputs": [],
   "source": [
    "# CHECK DATASETS\n",
    "dataset = train_dataset # <- dataset to be tested\n",
    "\n",
    "fig, axis = plt.subplots(2, 2, figsize=(9, 9))\n",
    "for i in range(2):\n",
    "    for j in range(2):\n",
    "        random_index = np.random.randint(0, len(dataset))\n",
    "        x_ray, label = dataset[random_index]\n",
    "        axis[i][j].imshow(x_ray[0], cmap=\"bone\")\n",
    "        axis[i][j].set_title(f\"Label:{label}\")"
   ]
  },
  {
   "cell_type": "code",
   "execution_count": null,
   "id": "9488adf7-4cf5-4b17-bdb2-bca29c1837e3",
   "metadata": {},
   "outputs": [],
   "source": [
    "batch_size = 16\n",
    "workers = 6 # <- adjust based on your system's performance\n",
    "\n",
    "train_loader = torch.utils.data.DataLoader(train_dataset, batch_size=batch_size, num_workers=workers, persistent_workers=True, shuffle=True, pin_memory=True)\n",
    "val_loader = torch.utils.data.DataLoader(val_dataset, batch_size=batch_size, num_workers=workers, persistent_workers=True, shuffle=False, pin_memory=True)"
   ]
  },
  {
   "cell_type": "code",
   "execution_count": null,
   "id": "d378ff3a-c67d-49a7-9db7-c71ee4950690",
   "metadata": {},
   "outputs": [],
   "source": [
    "#--------------------------------------------------------------------\n",
    "#                        INITIALIZE DENSENET121\n",
    "#--------------------------------------------------------------------"
   ]
  },
  {
   "cell_type": "code",
   "execution_count": null,
   "id": "f359ee9e-817a-420d-81db-f5aa8be6108f",
   "metadata": {},
   "outputs": [],
   "source": [
    "class PneumoniaModelDenseNet121(pl.LightningModule):\n",
    "    def __init__(self, weight=(20672/6012)):\n",
    "        super().__init__()\n",
    "        \n",
    "        self.model = torchvision.models.densenet121()\n",
    "        self.model.features.conv0 = torch.nn.Conv2d(1, 64, kernel_size=(3, 3), stride=(2, 2), padding=(3, 3), bias=False)\n",
    "        self.model.classifier = torch.nn.Linear(in_features=1024, out_features=1)\n",
    "        \n",
    "        self.optimizer = torch.optim.Adam(self.model.parameters(), lr=1e-4, weight_decay=1e-3)\n",
    "        self.loss_fn = torch.nn.BCEWithLogitsLoss(pos_weight=torch.tensor([weight]))\n",
    "        \n",
    "        self.train_acc = torchmetrics.classification.BinaryAccuracy()\n",
    "        self.val_acc = torchmetrics.classification.BinaryAccuracy()\n",
    "\n",
    "    def forward(self, data):\n",
    "        pred = self.model(data)\n",
    "        return pred\n",
    "    \n",
    "    def training_step(self, batch, batch_idx):\n",
    "        x_ray, label = batch\n",
    "        label = label.float()\n",
    "        pred = self(x_ray)[:,0]\n",
    "        \n",
    "        loss = self.loss_fn(pred, label)\n",
    "        self.train_acc(torch.sigmoid(pred), label.int())\n",
    "        \n",
    "        self.log(\"Train Acc\", self.train_acc, on_step=True, on_epoch=True)\n",
    "        self.log(\"Train Loss\", loss, on_step=True, on_epoch=True)\n",
    "        return loss\n",
    "        \n",
    "    def validation_step(self, batch, batch_idx):\n",
    "        x_ray, label = batch\n",
    "        label = label.float()\n",
    "        pred = self(x_ray)[:,0]\n",
    "        \n",
    "        loss = self.loss_fn(pred, label)\n",
    "        self.val_acc(torch.sigmoid(pred), label.int())\n",
    "\n",
    "        self.log(\"Val Acc\", self.val_acc, on_step=True, on_epoch=True)\n",
    "        self.log(\"Val Loss\", loss, on_step=True, on_epoch=True)\n",
    "        return loss\n",
    "    \n",
    "    def configure_optimizers(self):\n",
    "        return [self.optimizer]"
   ]
  },
  {
   "cell_type": "code",
   "execution_count": null,
   "id": "d3a2be5b-5125-47bb-944b-984307c56b9b",
   "metadata": {},
   "outputs": [],
   "source": [
    "model = PneumoniaModelDenseNet121()"
   ]
  },
  {
   "cell_type": "code",
   "execution_count": null,
   "id": "3e1fa929-aa20-4b76-9bee-5fa566c06f8c",
   "metadata": {},
   "outputs": [],
   "source": [
    "#--------------------------------------------------------------------\n",
    "#                           TRAIN MODEL\n",
    "#--------------------------------------------------------------------"
   ]
  },
  {
   "cell_type": "code",
   "execution_count": null,
   "id": "cdd8715a-4742-4625-b088-03ae3ad0de64",
   "metadata": {},
   "outputs": [],
   "source": [
    "checkpoint_callback = ModelCheckpoint(\n",
    "    monitor='Val Acc_epoch',\n",
    "    save_top_k=70,\n",
    "    mode='max')"
   ]
  },
  {
   "cell_type": "code",
   "execution_count": null,
   "id": "9b247ba7-4668-4dac-961a-a0c16153fb95",
   "metadata": {},
   "outputs": [],
   "source": [
    "epochs = 70\n",
    "trainer = pl.Trainer(logger=TensorBoardLogger(save_dir=\"./logs_densenet121\"), log_every_n_steps=100, callbacks=checkpoint_callback, max_epochs=epochs)"
   ]
  },
  {
   "cell_type": "code",
   "execution_count": null,
   "id": "6bbd38be-2d11-4df1-992e-40fe6470bed1",
   "metadata": {},
   "outputs": [],
   "source": [
    "trainer.fit(model, train_loader, val_loader)"
   ]
  },
  {
   "cell_type": "code",
   "execution_count": null,
   "id": "49769294-cf53-4da7-a470-14ce04bbeb17",
   "metadata": {},
   "outputs": [],
   "source": [
    "#--------------------------------------------------------------------\n",
    "#                             EVALUATE MODEL\n",
    "#--------------------------------------------------------------------"
   ]
  },
  {
   "cell_type": "code",
   "execution_count": null,
   "id": "3102efe2-9f5c-4e1e-a07f-ff87488a85ea",
   "metadata": {},
   "outputs": [],
   "source": [
    "model_version = \"version_0\" #Choose model version to be tested\n",
    "checkpoint = \"epoch=58-step=83662.ckpt\" #Checkpoint file name"
   ]
  },
  {
   "cell_type": "code",
   "execution_count": null,
   "id": "abaa1695-8513-4073-ba5a-7f636dad5327",
   "metadata": {},
   "outputs": [],
   "source": [
    "checkpoint_path = f\"logs_densenet121/lightning_logs/{model_version}/checkpoints/{checkpoint}\"\n",
    "device = torch.device(\"cuda:0\" if torch.cuda.is_available() else \"cpu\")\n",
    "model = PneumoniaModelDenseNet121.load_from_checkpoint(checkpoint_path)\n",
    "model.eval()\n",
    "model.to(device);"
   ]
  },
  {
   "cell_type": "code",
   "execution_count": null,
   "id": "08f55068-28df-415c-aa66-f4f449f8ee77",
   "metadata": {},
   "outputs": [],
   "source": [
    "preds = []\n",
    "labels = []\n",
    "\n",
    "with torch.no_grad():\n",
    "    for data, label in tqdm(test_dataset):\n",
    "        data = data.to(device).float().unsqueeze(0)\n",
    "        pred = torch.sigmoid(model(data)[0].cpu())\n",
    "        preds.append(pred)\n",
    "        labels.append(label)\n",
    "preds = torch.tensor(preds)\n",
    "labels = torch.tensor(labels).int()"
   ]
  },
  {
   "cell_type": "code",
   "execution_count": null,
   "id": "68d8bd11-3aad-4bc9-aace-38786c683f7c",
   "metadata": {},
   "outputs": [],
   "source": [
    "thr = 0.48 #Specify classification threshold"
   ]
  },
  {
   "cell_type": "code",
   "execution_count": null,
   "id": "21117bf8-9d5f-4e1a-9379-8913fb45f332",
   "metadata": {},
   "outputs": [],
   "source": [
    "acc = torchmetrics.classification.BinaryAccuracy(threshold=thr)(preds, labels)\n",
    "precision = torchmetrics.classification.BinaryPrecision(threshold=thr)(preds, labels)\n",
    "recall = torchmetrics.classification.BinaryRecall(threshold=thr)(preds, labels)\n",
    "f1 = torchmetrics.classification.BinaryF1Score(threshold=thr)(preds, labels)\n",
    "cm = torchmetrics.classification.BinaryConfusionMatrix(threshold=thr)(preds, labels)\n",
    "\n",
    "print(f\"Accuracy: {acc}\")\n",
    "print(f\"Precision: {precision}\")\n",
    "print(f\"Recall: {recall}\")\n",
    "print(f\"F1 Score {f1}\")\n",
    "print(f\"Confusion Matrix:\\n {cm}\")"
   ]
  },
  {
   "cell_type": "code",
   "execution_count": null,
   "id": "09e94ca0-2dc4-430e-bc2c-bc06a9dc2750",
   "metadata": {},
   "outputs": [],
   "source": [
    "fig, axis = plt.subplots(3, 3, figsize=(9, 9))\n",
    "\n",
    "for i in range(3):\n",
    "    for j in range(3):\n",
    "        rnd_idx = np.random.randint(0, len(preds))\n",
    "        axis[i][j].imshow(test_dataset[rnd_idx][0][0], cmap=\"bone\")\n",
    "        axis[i][j].set_title(f\"Pred:{int(preds[rnd_idx] > 0.5)}, Label:{labels[rnd_idx]}\")\n",
    "        axis[i][j].axis(\"off\")"
   ]
  },
  {
   "cell_type": "code",
   "execution_count": null,
   "id": "0922934d-a1cf-4520-a5ac-2482ebc3a375",
   "metadata": {},
   "outputs": [],
   "source": []
  }
 ],
 "metadata": {
  "kernelspec": {
   "display_name": "Python 3 (ipykernel)",
   "language": "python",
   "name": "python3"
  },
  "language_info": {
   "codemirror_mode": {
    "name": "ipython",
    "version": 3
   },
   "file_extension": ".py",
   "mimetype": "text/x-python",
   "name": "python",
   "nbconvert_exporter": "python",
   "pygments_lexer": "ipython3",
   "version": "3.12.2"
  }
 },
 "nbformat": 4,
 "nbformat_minor": 5
}
