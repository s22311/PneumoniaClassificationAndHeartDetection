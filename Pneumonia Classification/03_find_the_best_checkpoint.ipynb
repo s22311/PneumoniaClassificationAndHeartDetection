{
 "cells": [
  {
   "cell_type": "code",
   "execution_count": null,
   "id": "6a9b3e7b-ade8-4e24-817c-512b6f1ab16a",
   "metadata": {},
   "outputs": [],
   "source": [
    "from FileLoader import load_file\n",
    "import torch\n",
    "import torchvision\n",
    "from torchvision import transforms\n",
    "import torchmetrics\n",
    "import distutils.version\n",
    "import pytorch_lightning as pl\n",
    "from pytorch_lightning.callbacks import ModelCheckpoint\n",
    "from tqdm.notebook import tqdm\n",
    "import numpy as np\n",
    "import os"
   ]
  },
  {
   "cell_type": "code",
   "execution_count": null,
   "id": "55f48b3a-4ba0-4be4-9e01-f4f189afe713",
   "metadata": {},
   "outputs": [],
   "source": [
    "ckpt_path = \"./logs_resnet18/lightning_logs/version_14/checkpoints\" #Add the path to the folder with checkpoints\n",
    "processed_path = \"./processed\" #Add path to the folder with processed images"
   ]
  },
  {
   "cell_type": "code",
   "execution_count": null,
   "id": "18a811cc-1949-4542-8451-18cfd06a7c3e",
   "metadata": {},
   "outputs": [],
   "source": [
    "checkpoints = []\n",
    "for checkpoint in os.listdir(ckpt_path):\n",
    "    checkpoints.append(checkpoint)"
   ]
  },
  {
   "cell_type": "code",
   "execution_count": null,
   "id": "c8a05d8f-8f4d-49e3-8802-ca939cb76611",
   "metadata": {},
   "outputs": [],
   "source": [
    "print(checkpoints)"
   ]
  },
  {
   "cell_type": "code",
   "execution_count": null,
   "id": "087d8f87-05b3-4491-94a0-00e607eb4644",
   "metadata": {},
   "outputs": [],
   "source": [
    "test_transforms = transforms.Compose([\n",
    "                                    transforms.ToTensor(),\n",
    "                                    transforms.Normalize([0.49044,], [0.24787,])\n",
    "])\n",
    "\n",
    "test_dataset = torchvision.datasets.DatasetFolder(\n",
    "    f\"{processed_path}/test/\", loader=load_file, extensions=\"npy\", transform=test_transforms)\n",
    "\n",
    "print(f\"There are {len(test_dataset)} test images\")\n",
    "np.unique(test_dataset.targets, return_counts=True)"
   ]
  },
  {
   "cell_type": "code",
   "execution_count": null,
   "id": "eb5f1c21-9a1c-427f-8b4d-522881f195b5",
   "metadata": {},
   "outputs": [],
   "source": [
    "#Initiate the model that needs to be evaluated.\n",
    "#Currently it is ResNet18\n",
    "#Needs to be adjusted to evaluate another model"
   ]
  },
  {
   "cell_type": "code",
   "execution_count": null,
   "id": "663fdc1d-2fdd-460e-8eca-2df4ea31f4ad",
   "metadata": {},
   "outputs": [],
   "source": [
    "class PneumoniaModel(pl.LightningModule):\n",
    "    def __init__(self, weight=(20672/6012)):\n",
    "        super().__init__()\n",
    "        \n",
    "        self.model = torchvision.models.resnet18()\n",
    "        self.model.conv1 = torch.nn.Conv2d(1, 64, kernel_size=(7, 7), stride=(2, 2), padding=(3, 3), bias=False)\n",
    "        self.model.fc = torch.nn.Linear(in_features=512, out_features=1)\n",
    "        self.loss_fn = torch.nn.BCEWithLogitsLoss(pos_weight=torch.tensor([weight]))\n",
    "        \n",
    "    def forward(self, data):\n",
    "        pred = self.model(data)\n",
    "        return pred\n",
    "\n",
    "device = torch.device(\"cuda:0\" if torch.cuda.is_available() else \"cpu\")"
   ]
  },
  {
   "cell_type": "code",
   "execution_count": null,
   "id": "fa43bca3-66d0-401f-b9d1-768013a24d52",
   "metadata": {},
   "outputs": [],
   "source": [
    "#The below function evaluates the model for all the checkpoints in the speficied directory\n",
    "#Only the results for accuracy greater than 0.8 are printed"
   ]
  },
  {
   "cell_type": "code",
   "execution_count": null,
   "id": "3b266f05-89a2-4fce-8aa0-c5ad5dd1ed4e",
   "metadata": {},
   "outputs": [],
   "source": [
    "for checkpoint in checkpoints:\n",
    "    checkpoint_path = (f\"{ckpt_path}/{checkpoint}\")\n",
    "    model = PneumoniaModel.load_from_checkpoint(checkpoint_path)\n",
    "    model.eval()\n",
    "    model.to(device);\n",
    "\n",
    "    preds = []\n",
    "    labels = []\n",
    "    \n",
    "    with torch.no_grad():\n",
    "        for data, label in tqdm(test_dataset):\n",
    "            data = data.to(device).float().unsqueeze(0)\n",
    "            pred = torch.sigmoid(model(data)[0].cpu())\n",
    "            preds.append(pred)\n",
    "            labels.append(label)\n",
    "    preds = torch.tensor(preds)\n",
    "    labels = torch.tensor(labels).int()\n",
    "    acc = torchmetrics.classification.BinaryAccuracy()(preds, labels)\n",
    "    if acc>0.8:\n",
    "        precision = torchmetrics.classification.BinaryPrecision()(preds, labels)\n",
    "        recall = torchmetrics.classification.BinaryRecall()(preds, labels)\n",
    "        f1 = torchmetrics.classification.BinaryF1Score()(preds, labels)\n",
    "        print(f\"CKPT: {checkpoint}, acc: {acc}, recall: {recall}, precision: {precision}, F1: {f1}\")\n",
    "    else:\n",
    "        print(f\"CKPT: {checkpoint}\")"
   ]
  },
  {
   "cell_type": "code",
   "execution_count": null,
   "id": "48f3827f-40d2-4050-bd13-7c6aae9126b6",
   "metadata": {},
   "outputs": [],
   "source": []
  }
 ],
 "metadata": {
  "kernelspec": {
   "display_name": "Python 3 (ipykernel)",
   "language": "python",
   "name": "python3"
  },
  "language_info": {
   "codemirror_mode": {
    "name": "ipython",
    "version": 3
   },
   "file_extension": ".py",
   "mimetype": "text/x-python",
   "name": "python",
   "nbconvert_exporter": "python",
   "pygments_lexer": "ipython3",
   "version": "3.12.2"
  }
 },
 "nbformat": 4,
 "nbformat_minor": 5
}
