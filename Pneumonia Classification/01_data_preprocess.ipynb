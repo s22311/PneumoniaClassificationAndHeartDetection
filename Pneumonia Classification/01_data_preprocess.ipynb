{
 "cells": [
  {
   "cell_type": "code",
   "execution_count": null,
   "id": "5ba22452-1ab3-4d18-af34-9f3991b793f5",
   "metadata": {},
   "outputs": [],
   "source": [
    "from pathlib import Path\n",
    "import pydicom\n",
    "import numpy as np\n",
    "import cv2\n",
    "import imageio\n",
    "import pandas as pd\n",
    "from tqdm.notebook import tqdm\n",
    "from sklearn.model_selection import train_test_split"
   ]
  },
  {
   "cell_type": "code",
   "execution_count": null,
   "id": "c861cf05-b5cd-47b3-bfef-0d2d8245baa2",
   "metadata": {},
   "outputs": [],
   "source": [
    "train_labels = pd.read_csv(\"./train_labels.csv\") #Add path to the labels file for the train/val dataset\n",
    "test_labels = pd.read_csv(\"./test_labels.csv\") #Add path to the labels file for the test dataset"
   ]
  },
  {
   "cell_type": "code",
   "execution_count": null,
   "id": "e5918eb9-cf2a-4ac3-9e68-e0d4ea566dc1",
   "metadata": {},
   "outputs": [],
   "source": [
    "train_labels = train_labels.drop_duplicates(\"patientId\")"
   ]
  },
  {
   "cell_type": "code",
   "execution_count": null,
   "id": "76a36030-00ca-43d8-8653-2d0684a71bbe",
   "metadata": {},
   "outputs": [],
   "source": [
    "TRAIN_ROOT_PATH = Path(\"./train_images\") #Add path to the folder with train/val images\n",
    "TEST_ROOT_PATH = Path(\"./test_images\") #Add path to the folder with test images\n",
    "SAVE_PATH = Path(\"./processed/\") #Add path to the folder where the processed images will be saved"
   ]
  },
  {
   "cell_type": "code",
   "execution_count": null,
   "id": "f1a391cf-21ba-4a45-8dc1-6e2daca6a6ec",
   "metadata": {},
   "outputs": [],
   "source": [
    "train_sums = 0\n",
    "train_sums_squared = 0\n",
    "\n",
    "targets=[]\n",
    "count = 0\n",
    "\n",
    "for c, target in enumerate(tqdm(train_labels.Target)):\n",
    "    count += 1\n",
    "    targets.append(target)\n",
    "\n",
    "train_idx, validation_idx = train_test_split(np.arange(count), test_size=0.15, random_state=43,\n",
    "                                             shuffle=True, stratify=targets)\n",
    "\n",
    "for c, patient_id in enumerate(tqdm(train_labels.patientId)):\n",
    "    img_path = TRAIN_ROOT_PATH/patient_id\n",
    "    img_path = img_path.with_suffix(\".dcm\")\n",
    "    \n",
    "    img = pydicom.read_file(img_path).pixel_array / 255  \n",
    "    img_array = cv2.resize(img, (224, 224)).astype(np.float16)\n",
    "\n",
    "    label = train_labels.Target.iloc[c]\n",
    "\n",
    "    if c in train_idx:\n",
    "        train_or_val = \"train\"\n",
    "    else:\n",
    "        train_or_val = \"val\"\n",
    "        \n",
    "    current_save_path = SAVE_PATH/train_or_val/str(label)\n",
    "    current_save_path.mkdir(parents=True, exist_ok=True)\n",
    "    np.save(current_save_path/patient_id, img_array)\n",
    "    \n",
    "    normalizer = img_array.shape[0] * img_array.shape[1]\n",
    "    if train_or_val == \"train\":\n",
    "        train_sums += np.sum(img_array) / normalizer\n",
    "        train_sums_squared += (np.power(img_array, 2).sum()) / normalizer"
   ]
  },
  {
   "cell_type": "code",
   "execution_count": null,
   "id": "acdf3d05-6b6c-4aa9-b149-2faf9579bd6e",
   "metadata": {},
   "outputs": [],
   "source": [
    "train_mean = train_sums / len(train_idx)\n",
    "train_std = np.sqrt(train_sums_squared / len(train_idx) - (train_mean**2))"
   ]
  },
  {
   "cell_type": "code",
   "execution_count": null,
   "id": "c540d3ea-223b-403c-a68e-2e3dadbefcf6",
   "metadata": {},
   "outputs": [],
   "source": [
    "print(f\"Mean of Train Dataset: {train_mean}, STD: {train_std}\")"
   ]
  },
  {
   "cell_type": "code",
   "execution_count": null,
   "id": "49a8d05a-0d49-4596-9a45-eb68fca49610",
   "metadata": {},
   "outputs": [],
   "source": [
    "for c, patient_id in enumerate(tqdm(test_labels.fileName)):\n",
    "    img_path = TEST_ROOT_PATH/patient_id\n",
    "    \n",
    "    img = imageio.v2.imread(img_path) / 255  \n",
    "    img_array = cv2.resize(img, (224, 224)).astype(np.float16)\n",
    "\n",
    "    if len(img_array.shape)!=2:\n",
    "        continue\n",
    "    \n",
    "    label = test_labels.pneumonia.iloc[c]\n",
    "\n",
    "    filename = patient_id[:-5]\n",
    "    \n",
    "    current_save_path = SAVE_PATH/str(\"test\")/str(label)\n",
    "    current_save_path.mkdir(parents=True, exist_ok=True)\n",
    "    np.save(current_save_path/filename, img_array)"
   ]
  },
  {
   "cell_type": "code",
   "execution_count": null,
   "id": "e06fadc6-ccae-41a6-a55b-259eaa789071",
   "metadata": {},
   "outputs": [],
   "source": []
  }
 ],
 "metadata": {
  "kernelspec": {
   "display_name": "Python 3 (ipykernel)",
   "language": "python",
   "name": "python3"
  },
  "language_info": {
   "codemirror_mode": {
    "name": "ipython",
    "version": 3
   },
   "file_extension": ".py",
   "mimetype": "text/x-python",
   "name": "python",
   "nbconvert_exporter": "python",
   "pygments_lexer": "ipython3",
   "version": "3.12.2"
  }
 },
 "nbformat": 4,
 "nbformat_minor": 5
}
