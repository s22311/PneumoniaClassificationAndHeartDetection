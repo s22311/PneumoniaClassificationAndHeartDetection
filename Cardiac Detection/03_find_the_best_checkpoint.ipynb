{
 "cells": [
  {
   "cell_type": "code",
   "execution_count": null,
   "id": "6a9b3e7b-ade8-4e24-817c-512b6f1ab16a",
   "metadata": {},
   "outputs": [],
   "source": [
    "import torch\n",
    "import torchvision\n",
    "import torchmetrics\n",
    "import pytorch_lightning as pl\n",
    "from pytorch_lightning.callbacks import ModelCheckpoint\n",
    "from pytorch_lightning.loggers import TensorBoardLogger\n",
    "import numpy as np\n",
    "import cv2\n",
    "import imgaug.augmenters as iaa\n",
    "from dataset import CardiacDataset\n",
    "import os"
   ]
  },
  {
   "cell_type": "code",
   "execution_count": null,
   "id": "67a356de-f3a0-4f64-afc5-0e4e4fe1feca",
   "metadata": {},
   "outputs": [],
   "source": [
    "processed_path = \"./processed_heart_detection\" #Add path to the folder with processed images and subjects files\n",
    "labels_path = \"./heart_detection_labels.csv\" #Add path to the labels file for the train/val/test dataset\n",
    "ckpt_path = \"./logs_heart/lightning_logs/version_0/checkpoints/\" #Add the path to the folder with checkpoints"
   ]
  },
  {
   "cell_type": "code",
   "execution_count": null,
   "id": "55f48b3a-4ba0-4be4-9e01-f4f189afe713",
   "metadata": {},
   "outputs": [],
   "source": [
    "test_root_path = f\"{processed_path}/test/\"\n",
    "test_subjects = f\"{processed_path}/test_subjects.npy\"\n",
    "test_dataset = CardiacDataset(labels_path, test_subjects, test_root_path, None)"
   ]
  },
  {
   "cell_type": "code",
   "execution_count": null,
   "id": "18a811cc-1949-4542-8451-18cfd06a7c3e",
   "metadata": {},
   "outputs": [],
   "source": [
    "checkpoints = []\n",
    "for checkpoint in os.listdir(ckpt_path):\n",
    "    checkpoints.append(checkpoint)"
   ]
  },
  {
   "cell_type": "code",
   "execution_count": null,
   "id": "c8a05d8f-8f4d-49e3-8802-ca939cb76611",
   "metadata": {},
   "outputs": [],
   "source": [
    "print(checkpoints)"
   ]
  },
  {
   "cell_type": "code",
   "execution_count": null,
   "id": "663fdc1d-2fdd-460e-8eca-2df4ea31f4ad",
   "metadata": {},
   "outputs": [],
   "source": [
    "class CardiacDetectionModel1(pl.LightningModule):\n",
    "    def __init__(self):\n",
    "        super().__init__()\n",
    "        \n",
    "        self.model = torchvision.models.resnet18()\n",
    "        self.model.conv1 = torch.nn.Conv2d(1, 64, kernel_size=(7, 7), stride=(2, 2), padding=(3, 3), bias=False)\n",
    "        self.model.fc = torch.nn.Linear(in_features=512 ,out_features=4)\n",
    "        self.loss_fn = torch.nn.MSELoss()\n",
    "        \n",
    "    def forward(self, data):\n",
    "        return self.model(data)\n",
    "\n",
    "device = torch.device(\"cuda:0\" if torch.cuda.is_available() else \"cpu\")"
   ]
  },
  {
   "cell_type": "code",
   "execution_count": null,
   "id": "dffc3859-ac73-4f88-b5de-44529782b293",
   "metadata": {},
   "outputs": [],
   "source": [
    "#The below function evaluates the model for all the checkpoints in the speficied directory\n",
    "#Only the results for offset lower than 5 are printed"
   ]
  },
  {
   "cell_type": "code",
   "execution_count": null,
   "id": "3b266f05-89a2-4fce-8aa0-c5ad5dd1ed4e",
   "metadata": {},
   "outputs": [],
   "source": [
    "for checkpoint in checkpoints:\n",
    "    checkpoint_path = (f\"{ckpt_path}/{checkpoint}\")\n",
    "    model = CardiacDetectionModel1.load_from_checkpoint(checkpoint_path)\n",
    "    model.eval()\n",
    "    model.to(device);\n",
    "\n",
    "    preds = []\n",
    "    labels = []\n",
    "    \n",
    "    with torch.no_grad():\n",
    "        for data, label in test_dataset:\n",
    "            data = data.to(device).float().unsqueeze(0)\n",
    "            pred = model(data)[0].cpu()\n",
    "            preds.append(pred)\n",
    "            labels.append(label)\n",
    "        \n",
    "        preds=torch.stack(preds)\n",
    "        labels=torch.stack(labels)\n",
    "        offset_all = abs(preds-labels).mean(0)\n",
    "        offset = torch.mean(offset_all)\n",
    "        if offset<5:\n",
    "            print(f\"CKPT: {checkpoint}, offset: {offset}, all: {offset_all}\")"
   ]
  },
  {
   "cell_type": "code",
   "execution_count": null,
   "id": "48f3827f-40d2-4050-bd13-7c6aae9126b6",
   "metadata": {},
   "outputs": [],
   "source": []
  }
 ],
 "metadata": {
  "kernelspec": {
   "display_name": "Python 3 (ipykernel)",
   "language": "python",
   "name": "python3"
  },
  "language_info": {
   "codemirror_mode": {
    "name": "ipython",
    "version": 3
   },
   "file_extension": ".py",
   "mimetype": "text/x-python",
   "name": "python",
   "nbconvert_exporter": "python",
   "pygments_lexer": "ipython3",
   "version": "3.12.2"
  }
 },
 "nbformat": 4,
 "nbformat_minor": 5
}
