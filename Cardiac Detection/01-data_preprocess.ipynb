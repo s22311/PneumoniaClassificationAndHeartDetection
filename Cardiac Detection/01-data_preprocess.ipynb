{
 "cells": [
  {
   "cell_type": "code",
   "execution_count": null,
   "id": "binding-values",
   "metadata": {},
   "outputs": [],
   "source": [
    "from pathlib import Path\n",
    "import pydicom\n",
    "import numpy as np\n",
    "import cv2\n",
    "import pandas as pd\n",
    "import matplotlib.pyplot as plt\n",
    "import matplotlib.patches as patches"
   ]
  },
  {
   "cell_type": "code",
   "execution_count": null,
   "id": "asian-insider",
   "metadata": {},
   "outputs": [],
   "source": [
    "labels = pd.read_csv(\"./heart_detection_labels.csv\") #Add path to the labels file for the train/val/test dataset"
   ]
  },
  {
   "cell_type": "code",
   "execution_count": null,
   "id": "historic-center",
   "metadata": {},
   "outputs": [],
   "source": [
    "ROOT_PATH = Path(\"./train_images/\") #Add path to the folder with train/val/test images\n",
    "SAVE_PATH = Path(\"./processed_heart_detection/\") #Add path to the folder where the processed images will be saved"
   ]
  },
  {
   "cell_type": "code",
   "execution_count": null,
   "id": "comprehensive-label",
   "metadata": {},
   "outputs": [],
   "source": [
    "train_sums = 0\n",
    "train_sums_squared = 0\n",
    "train_ids = []\n",
    "val_ids = []\n",
    "test_ids = []\n",
    "\n",
    "for counter, patient_id in enumerate(list(labels.name)):  \n",
    "    img_path = ROOT_PATH/patient_id\n",
    "    img_path = img_path.with_suffix(\".dcm\")\n",
    "    \n",
    "    img = pydicom.read_file(img_path).pixel_array / 255\n",
    "    img_array = cv2.resize(img, (224, 224)).astype(np.float16)\n",
    "\n",
    "    if counter < 400:\n",
    "        train_val_test = \"train\"\n",
    "        train_ids.append(patient_id)\n",
    "    elif counter < 448:\n",
    "        train_val_test = \"val\"\n",
    "        val_ids.append(patient_id)\n",
    "    else:\n",
    "        train_val_test = \"test\"\n",
    "        test_ids.append(patient_id)\n",
    "    \n",
    "    current_save_path = SAVE_PATH/train_val_test\n",
    "    current_save_path.mkdir(parents=True, exist_ok=True)\n",
    "    np.save(current_save_path/patient_id, img_array)\n",
    "    \n",
    "    normalizer = img_array.shape[0] * img_array.shape[1]\n",
    "    if train_val_test == \"train\":\n",
    "        train_sums += np.sum(img_array) / normalizer\n",
    "        train_sums_squared += (np.power(img_array, 2).sum()) / normalizer"
   ]
  },
  {
   "cell_type": "code",
   "execution_count": null,
   "id": "institutional-attraction",
   "metadata": {
    "scrolled": true
   },
   "outputs": [],
   "source": [
    "np.save(f\"{SAVE_PATH}/train_subjects\", train_ids)\n",
    "np.save(f\"{SAVE_PATH}/val_subjects\", val_ids)\n",
    "np.save(f\"{SAVE_PATH}/test_subjects\", test_ids)"
   ]
  },
  {
   "cell_type": "code",
   "execution_count": null,
   "id": "virtual-router",
   "metadata": {},
   "outputs": [],
   "source": [
    "train_mean = train_sums / len(train_ids)\n",
    "train_std = np.sqrt(train_sums_squared / len(train_ids) - (train_mean**2))"
   ]
  },
  {
   "cell_type": "code",
   "execution_count": null,
   "id": "economic-slovenia",
   "metadata": {},
   "outputs": [],
   "source": [
    "print(f\"Mean of Train Dataset: {train_mean}, STD: {train_std}\")"
   ]
  },
  {
   "cell_type": "code",
   "execution_count": null,
   "id": "f1482239-a18c-4d80-ace1-006c7a372fe4",
   "metadata": {},
   "outputs": [],
   "source": []
  }
 ],
 "metadata": {
  "kernelspec": {
   "display_name": "Python 3 (ipykernel)",
   "language": "python",
   "name": "python3"
  },
  "language_info": {
   "codemirror_mode": {
    "name": "ipython",
    "version": 3
   },
   "file_extension": ".py",
   "mimetype": "text/x-python",
   "name": "python",
   "nbconvert_exporter": "python",
   "pygments_lexer": "ipython3",
   "version": "3.12.2"
  }
 },
 "nbformat": 4,
 "nbformat_minor": 5
}
