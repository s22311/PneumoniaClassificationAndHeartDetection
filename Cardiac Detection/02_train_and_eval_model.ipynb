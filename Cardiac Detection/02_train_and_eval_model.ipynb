{
 "cells": [
  {
   "cell_type": "code",
   "execution_count": null,
   "id": "cosmetic-healthcare",
   "metadata": {},
   "outputs": [],
   "source": [
    "import torch\n",
    "import torchvision\n",
    "import torchmetrics\n",
    "import pytorch_lightning as pl\n",
    "from pytorch_lightning.callbacks import ModelCheckpoint\n",
    "from pytorch_lightning.loggers import TensorBoardLogger\n",
    "import numpy as np\n",
    "import cv2\n",
    "import imgaug.augmenters as iaa\n",
    "import matplotlib.pyplot as plt\n",
    "import matplotlib.patches as patches\n",
    "from dataset import CardiacDataset"
   ]
  },
  {
   "cell_type": "code",
   "execution_count": null,
   "id": "38c6ab8c-76a1-4c33-ba7e-45f6af864b8a",
   "metadata": {},
   "outputs": [],
   "source": [
    "processed_path = \"./processed_heart_detection\" #Add path to the folder with processed images and subjects files\n",
    "labels_path = \"./heart_detection_labels.csv\" #Add path to the labels file for the train/val/test dataset"
   ]
  },
  {
   "cell_type": "code",
   "execution_count": null,
   "id": "6150318e-57e9-4180-9bcc-9cbc51d19a36",
   "metadata": {},
   "outputs": [],
   "source": [
    "train_root_path = f\"{processed_path}/train/\"\n",
    "train_subjects = f\"{processed_path}/train_subjects.npy\"\n",
    "val_root_path = f\"{processed_path}/val/\"\n",
    "val_subjects = f\"{processed_path}/val_subjects.npy\"\n",
    "test_root_path = f\"{processed_path}/test/\"\n",
    "test_subjects = f\"{processed_path}/test_subjects.npy\""
   ]
  },
  {
   "cell_type": "code",
   "execution_count": null,
   "id": "advanced-filing",
   "metadata": {},
   "outputs": [],
   "source": [
    "train_transforms = iaa.Sequential([\n",
    "                                iaa.GammaContrast(),\n",
    "                                iaa.Affine(\n",
    "                                    scale=(0.8, 1.2),\n",
    "                                    rotate=(-10, 10),\n",
    "                                    translate_px=(-10, 10)\n",
    "                                )\n",
    "                            ])"
   ]
  },
  {
   "cell_type": "code",
   "execution_count": null,
   "id": "considered-august",
   "metadata": {},
   "outputs": [],
   "source": [
    "train_dataset = CardiacDataset(labels_path, train_subjects, train_root_path, train_transforms)\n",
    "val_dataset = CardiacDataset(labels_path, val_subjects, val_root_path, None)\n",
    "test_dataset = CardiacDataset(labels_path, test_subjects, test_root_path, None)\n",
    "print(f\"There are {len(train_dataset)} train images, {len(val_dataset)} val images, and {len(test_dataset)} test images\")"
   ]
  },
  {
   "cell_type": "code",
   "execution_count": null,
   "id": "insured-optimum",
   "metadata": {},
   "outputs": [],
   "source": [
    "batch_size = 8\n",
    "workers = 6 # <- adjust based on your system's performance\n",
    "\n",
    "train_loader = torch.utils.data.DataLoader(train_dataset, batch_size=batch_size, num_workers=workers, persistent_workers=True, shuffle=True, pin_memory=True)\n",
    "val_loader = torch.utils.data.DataLoader(val_dataset, batch_size=batch_size, num_workers=workers, persistent_workers=True, shuffle=False, pin_memory=True)"
   ]
  },
  {
   "cell_type": "code",
   "execution_count": null,
   "id": "4eb14238-0bf8-4979-9d3a-31f11154f886",
   "metadata": {},
   "outputs": [],
   "source": [
    "#--------------------------------------------------------------------\n",
    "#                         INITIALIZE RESNET18\n",
    "#--------------------------------------------------------------------"
   ]
  },
  {
   "cell_type": "code",
   "execution_count": null,
   "id": "1a0a9582-7a89-4814-9461-94409b5a6e62",
   "metadata": {},
   "outputs": [],
   "source": [
    "class CardiacDetectionModel(pl.LightningModule):\n",
    "    def __init__(self):\n",
    "        super().__init__()\n",
    "        \n",
    "        self.model = torchvision.models.resnet18()\n",
    "        self.model.conv1 = torch.nn.Conv2d(1, 64, kernel_size=(7, 7), stride=(2, 2), padding=(3, 3), bias=False)\n",
    "        self.model.fc = torch.nn.Linear(in_features=512 ,out_features=4)\n",
    "        \n",
    "        self.optimizer = torch.optim.Adam(self.model.parameters(), lr=1e-4)\n",
    "        self.loss_fn = torch.nn.MSELoss()\n",
    "        \n",
    "    def forward(self, data):\n",
    "        return self.model(data)\n",
    "    \n",
    "    def training_step(self, batch, batch_idx):\n",
    "        x_ray, label = batch\n",
    "        label = label.float()\n",
    "        pred = self(x_ray)\n",
    "        loss = self.loss_fn(pred, label)\n",
    "        train_acc = abs(pred-label).mean(0)\n",
    "        train_acc = torch.mean(train_acc)\n",
    "        \n",
    "        self.log(\"Train Mean Offset\", train_acc, on_step=False, on_epoch=True)\n",
    "        return loss\n",
    "    \n",
    "    def validation_step(self, batch, batch_idx):\n",
    "        x_ray, label = batch\n",
    "        label = label.float()\n",
    "        pred = self(x_ray)\n",
    "        loss = self.loss_fn(pred, label)\n",
    "        val_acc = abs(pred-label).mean(0)\n",
    "        val_acc = torch.mean(val_acc)\n",
    "        \n",
    "        self.log(\"Val Mean Offset\", val_acc, on_step=False, on_epoch=True)\n",
    "        return loss\n",
    "        \n",
    "    def configure_optimizers(self):\n",
    "        return [self.optimizer]\n"
   ]
  },
  {
   "cell_type": "code",
   "execution_count": null,
   "id": "second-stuart",
   "metadata": {},
   "outputs": [],
   "source": [
    "model = CardiacDetectionModel()"
   ]
  },
  {
   "cell_type": "code",
   "execution_count": null,
   "id": "fec1578f-3370-449f-95c5-dc3eec65d211",
   "metadata": {},
   "outputs": [],
   "source": [
    "#--------------------------------------------------------------------\n",
    "#                           TRAIN MODEL\n",
    "#--------------------------------------------------------------------"
   ]
  },
  {
   "cell_type": "code",
   "execution_count": null,
   "id": "becoming-catch",
   "metadata": {},
   "outputs": [],
   "source": [
    "checkpoint_callback = ModelCheckpoint(\n",
    "    monitor='Train Mean Offset',\n",
    "    save_top_k=140,\n",
    "    mode='min')"
   ]
  },
  {
   "cell_type": "code",
   "execution_count": null,
   "id": "extended-playing",
   "metadata": {},
   "outputs": [],
   "source": [
    "epochs = 140\n",
    "trainer = pl.Trainer(logger=TensorBoardLogger(\"./logs_heart\"), log_every_n_steps=1, callbacks=checkpoint_callback, max_epochs=epochs)"
   ]
  },
  {
   "cell_type": "code",
   "execution_count": null,
   "id": "massive-bunch",
   "metadata": {
    "scrolled": true
   },
   "outputs": [],
   "source": [
    "trainer.fit(model, train_loader, val_loader)"
   ]
  },
  {
   "cell_type": "code",
   "execution_count": null,
   "id": "c21e14f4-2b2a-45b0-971a-676036cf9971",
   "metadata": {},
   "outputs": [],
   "source": [
    "#--------------------------------------------------------------------\n",
    "#                             EVALUATE MODEL\n",
    "#--------------------------------------------------------------------"
   ]
  },
  {
   "cell_type": "code",
   "execution_count": null,
   "id": "b5caa1b1-791d-4edb-ada0-a3e2c6c5c70c",
   "metadata": {},
   "outputs": [],
   "source": [
    "model_version = \"version_0\" #Choose model version to be tested\n",
    "checkpoint = \"epoch=108-step=5450.ckpt\" #Checkpoint file name"
   ]
  },
  {
   "cell_type": "code",
   "execution_count": null,
   "id": "atmospheric-royalty",
   "metadata": {
    "scrolled": true
   },
   "outputs": [],
   "source": [
    "checkpoint_path = f\"logs_heart/lightning_logs/{model_version}/checkpoints/{checkpoint}\"\n",
    "device = torch.device(\"cuda:0\" if torch.cuda.is_available() else \"cpu\")\n",
    "model = CardiacDetectionModel.load_from_checkpoint(checkpoint_path)\n",
    "model.eval()\n",
    "model.to(device)"
   ]
  },
  {
   "cell_type": "code",
   "execution_count": null,
   "id": "labeled-witness",
   "metadata": {
    "scrolled": true
   },
   "outputs": [],
   "source": [
    "preds = []\n",
    "labels = []\n",
    "\n",
    "with torch.no_grad():\n",
    "    for data, label in test_dataset:\n",
    "        data = data.to(device).float().unsqueeze(0)\n",
    "        pred = model(data)[0].cpu()\n",
    "        preds.append(pred)\n",
    "        labels.append(label)\n",
    "        \n",
    "preds=torch.stack(preds)\n",
    "labels=torch.stack(labels)"
   ]
  },
  {
   "cell_type": "code",
   "execution_count": null,
   "id": "stainless-construction",
   "metadata": {
    "scrolled": true
   },
   "outputs": [],
   "source": [
    "offset_all = abs(preds-labels).mean(0)\n",
    "offset = torch.mean(offset_all)\n",
    "print(f\"Mean offset: {offset}, mean per axis: {offset_all}\")"
   ]
  },
  {
   "cell_type": "code",
   "execution_count": null,
   "id": "2f380bfc-9ab9-4e2c-81b8-8ef822c97713",
   "metadata": {},
   "outputs": [],
   "source": [
    "#--------------------------------------------------------------------\n",
    "#                             EXAMPLE\n",
    "#--------------------------------------------------------------------"
   ]
  },
  {
   "cell_type": "code",
   "execution_count": null,
   "id": "e85ccc61-d95b-4443-8dfb-f0dc040b12f8",
   "metadata": {},
   "outputs": [],
   "source": [
    "fig, axis = plt.subplots(2, 2)\n",
    "for i in range(2):\n",
    "    for j in range(2):\n",
    "        random_index = np.random.randint(0, len(test_dataset))\n",
    "        x_ray, labels = test_dataset[random_index]\n",
    "        x = labels[0]\n",
    "        y = labels[1]\n",
    "        width = labels[2]-labels[0]\n",
    "        height = labels[3]-labels[1]\n",
    "        \n",
    "        axis[i][j].imshow(x_ray[0], cmap=\"bone\")\n",
    "        rect = patches.Rectangle((x, y), width, height, linewidth=1, edgecolor=\"r\", facecolor='none')\n",
    "        axis[i][j].add_patch(rect)\n",
    "\n",
    "        preds1 = []\n",
    "        labels1 = []\n",
    "        \n",
    "        with torch.no_grad():\n",
    "            x_ray = x_ray.to(device).float().unsqueeze(0)\n",
    "            pred = model(x_ray)[0].cpu()\n",
    "            preds1.append(pred)\n",
    "            labels1.append(pred)\n",
    "                \n",
    "        preds1=torch.stack(preds1)\n",
    "        labels1=torch.stack(labels1)\n",
    "        current_pred = preds1[0]\n",
    "\n",
    "        heart = patches.Rectangle((current_pred[0], current_pred[1]), current_pred[2]-current_pred[0],\n",
    "                                  current_pred[3]-current_pred[1], linewidth=1, edgecolor='g', facecolor='none')\n",
    "        axis[i][j].add_patch(heart)"
   ]
  },
  {
   "cell_type": "code",
   "execution_count": null,
   "id": "02586d7a-3c74-404c-8692-81269a356286",
   "metadata": {},
   "outputs": [],
   "source": []
  }
 ],
 "metadata": {
  "kernelspec": {
   "display_name": "Python 3 (ipykernel)",
   "language": "python",
   "name": "python3"
  },
  "language_info": {
   "codemirror_mode": {
    "name": "ipython",
    "version": 3
   },
   "file_extension": ".py",
   "mimetype": "text/x-python",
   "name": "python",
   "nbconvert_exporter": "python",
   "pygments_lexer": "ipython3",
   "version": "3.12.2"
  }
 },
 "nbformat": 4,
 "nbformat_minor": 5
}
